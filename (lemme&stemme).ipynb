{
  "nbformat": 4,
  "nbformat_minor": 0,
  "metadata": {
    "colab": {
      "provenance": [],
      "authorship_tag": "ABX9TyMrMp8N7nZshAeRpP+9seDm",
      "include_colab_link": true
    },
    "kernelspec": {
      "name": "python3",
      "display_name": "Python 3"
    },
    "language_info": {
      "name": "python"
    }
  },
  "cells": [
    {
      "cell_type": "markdown",
      "metadata": {
        "id": "view-in-github",
        "colab_type": "text"
      },
      "source": [
        "<a href=\"https://colab.research.google.com/github/yuthika21z/NLP-prac-/blob/main/(lemme%26stemme).ipynb\" target=\"_parent\"><img src=\"https://colab.research.google.com/assets/colab-badge.svg\" alt=\"Open In Colab\"/></a>"
      ]
    },
    {
      "cell_type": "code",
      "execution_count": 1,
      "metadata": {
        "id": "5aP7Yxj2a41y"
      },
      "outputs": [],
      "source": [
        "import nltk\n",
        "from nltk.stem import PorterStemmer\n",
        "from nltk.stem import WordNetLemmatizer"
      ]
    },
    {
      "cell_type": "code",
      "source": [
        "nltk.download('punkt') # Download the punkt tokenizer data\n",
        "nltk.download('omw-1.4') # Download WordNet data"
      ],
      "metadata": {
        "id": "G3hFwFUVa_bG",
        "colab": {
          "base_uri": "https://localhost:8080/"
        },
        "outputId": "8807f7f2-d62a-46a1-d68b-1cc49d516739"
      },
      "execution_count": 2,
      "outputs": [
        {
          "output_type": "stream",
          "name": "stderr",
          "text": [
            "[nltk_data] Downloading package punkt to /root/nltk_data...\n",
            "[nltk_data]   Unzipping tokenizers/punkt.zip.\n",
            "[nltk_data] Downloading package omw-1.4 to /root/nltk_data...\n"
          ]
        },
        {
          "output_type": "execute_result",
          "data": {
            "text/plain": [
              "True"
            ]
          },
          "metadata": {},
          "execution_count": 2
        }
      ]
    },
    {
      "cell_type": "code",
      "source": [
        "# Initialize a Porter Stemmer for stemming\n",
        "ps = PorterStemmer()"
      ],
      "metadata": {
        "id": "xVS_HTFz8YLB"
      },
      "execution_count": 3,
      "outputs": []
    },
    {
      "cell_type": "code",
      "source": [
        "# Perform stemming and print the results\n",
        "example_words = [\"running\", \"ran\", \"runner\", \"easily\", \"beautiful\"]\n",
        "\n",
        "print(\"{0:20} {1:20}\".format(\"--word--\", \"--stem--\"))\n",
        "for word in example_words:\n",
        " print(\"{0:20} {1:20}\".format(word, ps.stem(word)))"
      ],
      "metadata": {
        "id": "fAY_FhZX8YP0",
        "colab": {
          "base_uri": "https://localhost:8080/"
        },
        "outputId": "0b30f872-16b3-4f77-b364-12655bead698"
      },
      "execution_count": 6,
      "outputs": [
        {
          "output_type": "stream",
          "name": "stdout",
          "text": [
            "--word--             --stem--            \n",
            "running              run                 \n",
            "ran                  ran                 \n",
            "runner               runner              \n",
            "easily               easili              \n",
            "beautiful            beauti              \n"
          ]
        }
      ]
    },
    {
      "cell_type": "code",
      "source": [
        "# Initialize a WordNet Lemmatizer for lemmatization\n",
        "wnl = WordNetLemmatizer()"
      ],
      "metadata": {
        "id": "LMhjjooU8YUO"
      },
      "execution_count": 7,
      "outputs": []
    },
    {
      "cell_type": "code",
      "source": [
        "# Define a list of example words for lemmatization\n",
        "list_of_words = ['kites', 'babies', 'dogs']\n",
        "import nltk\n",
        "nltk.download('wordnet')"
      ],
      "metadata": {
        "id": "Bx1t-ZoN8jH_",
        "colab": {
          "base_uri": "https://localhost:8080/"
        },
        "outputId": "3d7dcbac-850d-4bdb-9299-5db3017d050a"
      },
      "execution_count": 17,
      "outputs": [
        {
          "output_type": "stream",
          "name": "stderr",
          "text": [
            "[nltk_data] Downloading package wordnet to /root/nltk_data...\n",
            "[nltk_data]   Package wordnet is already up-to-date!\n"
          ]
        },
        {
          "output_type": "execute_result",
          "data": {
            "text/plain": [
              "True"
            ]
          },
          "metadata": {},
          "execution_count": 17
        }
      ]
    },
    {
      "cell_type": "code",
      "source": [
        "# Perform lemmatization and print the results\n",
        "print(\"\\nLemmatization:\")\n",
        "for word in list_of_words:\n",
        "    print(f\"{word} -> {wnl.lemmatize(word)}\")"
      ],
      "metadata": {
        "id": "tiA2W-qv8jMX",
        "colab": {
          "base_uri": "https://localhost:8080/"
        },
        "outputId": "6e12cdb5-04c8-463c-f7bc-179ede079ace"
      },
      "execution_count": 18,
      "outputs": [
        {
          "output_type": "stream",
          "name": "stdout",
          "text": [
            "\n",
            "Lemmatization:\n",
            "kites -> kite\n",
            "babies -> baby\n",
            "dogs -> dog\n"
          ]
        }
      ]
    },
    {
      "cell_type": "code",
      "source": [],
      "metadata": {
        "id": "ZB7Be2OM8YeB"
      },
      "execution_count": null,
      "outputs": []
    }
  ]
}